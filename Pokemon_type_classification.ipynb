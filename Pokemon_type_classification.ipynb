{
  "nbformat": 4,
  "nbformat_minor": 0,
  "metadata": {
    "colab": {
      "name": "Pokemon-type-classification의 사본",
      "provenance": [],
      "collapsed_sections": [],
      "toc_visible": true
    },
    "kernelspec": {
      "name": "python3",
      "display_name": "Python 3"
    },
    "language_info": {
      "name": "python"
    },
    "accelerator": "GPU"
  },
  "cells": [
    {
      "cell_type": "markdown",
      "metadata": {
        "id": "-LDIOYlYp-K8"
      },
      "source": [
        "# 라이브러리 불러오기"
      ]
    },
    {
      "cell_type": "code",
      "metadata": {
        "id": "tUnSAIqcpwSz"
      },
      "source": [
        "import pandas as pd\n",
        "import numpy as np\n",
        "import matplotlib.pyplot as plt\n",
        "import matplotlib.image as mpimg\n",
        "import matplotlib.gridspec as gridspec\n",
        "import seaborn as sns\n",
        "import os\n",
        "import tensorflow as tf\n",
        "from tensorflow import keras\n",
        "from PIL import Image"
      ],
      "execution_count": null,
      "outputs": []
    },
    {
      "cell_type": "code",
      "metadata": {
        "id": "ya_3Pk-rrv5c"
      },
      "source": [
        "from tensorflow.keras.utils import to_categorical\n",
        "from keras.preprocessing.image import ImageDataGenerator\n",
        "from sklearn.model_selection import train_test_split\n",
        "from keras.models import Sequential\n",
        "from keras.layers import Conv2D, MaxPooling2D, Dropout, Flatten, Dense, Activation, BatchNormalization, Lambda"
      ],
      "execution_count": null,
      "outputs": []
    },
    {
      "cell_type": "markdown",
      "metadata": {
        "id": "8q1tGERMqpM8"
      },
      "source": [
        "# 데이터 불러오기"
      ]
    },
    {
      "cell_type": "markdown",
      "metadata": {
        "id": "e6WqcauCwxnI"
      },
      "source": [
        "깃허브에서 가져오기(구글 코랩 환경)"
      ]
    },
    {
      "cell_type": "code",
      "metadata": {
        "id": "tvEf3euctb4N",
        "colab": {
          "base_uri": "https://localhost:8080/",
          "height": 35
        },
        "outputId": "c9dd90a1-0ed3-4699-b856-9e0944df10a0"
      },
      "source": [
        "os.chdir('../home')\n",
        "os.getcwd()"
      ],
      "execution_count": null,
      "outputs": [
        {
          "output_type": "execute_result",
          "data": {
            "application/vnd.google.colaboratory.intrinsic+json": {
              "type": "string"
            },
            "text/plain": [
              "'/home'"
            ]
          },
          "metadata": {
            "tags": []
          },
          "execution_count": 21
        }
      ]
    },
    {
      "cell_type": "code",
      "metadata": {
        "id": "wCLnmSmmspr1",
        "colab": {
          "base_uri": "https://localhost:8080/"
        },
        "outputId": "99695665-2a4a-44a6-ca94-36a1111b7b65"
      },
      "source": [
        "!git clone https://github.com/HCturtle/pokemon-type.git"
      ],
      "execution_count": null,
      "outputs": [
        {
          "output_type": "stream",
          "text": [
            "Cloning into 'pokemon-type'...\n",
            "remote: Enumerating objects: 880, done.\u001b[K\n",
            "remote: Counting objects: 100% (6/6), done.\u001b[K\n",
            "remote: Compressing objects: 100% (5/5), done.\u001b[K\n",
            "remote: Total 880 (delta 0), reused 0 (delta 0), pack-reused 874\u001b[K\n",
            "Receiving objects: 100% (880/880), 2.38 MiB | 18.62 MiB/s, done.\n",
            "Resolving deltas: 100% (11/11), done.\n"
          ],
          "name": "stdout"
        }
      ]
    },
    {
      "cell_type": "markdown",
      "metadata": {
        "id": "GhnZ1kEcw24X"
      },
      "source": [
        "타입이 적혀있는 csv 파일 가져오기"
      ]
    },
    {
      "cell_type": "code",
      "metadata": {
        "id": "Z844dx6Cp9mU",
        "colab": {
          "base_uri": "https://localhost:8080/"
        },
        "outputId": "7d4f1c45-5c40-4cd1-f9e4-4f1f9d4e9187"
      },
      "source": [
        "csv_data = pd.read_csv(\"./pokemon-type/data/pokemon.csv\")\n",
        "csv_data.info"
      ],
      "execution_count": null,
      "outputs": [
        {
          "output_type": "execute_result",
          "data": {
            "text/plain": [
              "<bound method DataFrame.info of             Name     Type1   Type2\n",
              "0      bulbasaur     Grass  Poison\n",
              "1        ivysaur     Grass  Poison\n",
              "2       venusaur     Grass  Poison\n",
              "3     charmander      Fire     NaN\n",
              "4     charmeleon      Fire     NaN\n",
              "..           ...       ...     ...\n",
              "804    stakataka      Rock   Steel\n",
              "805  blacephalon      Fire   Ghost\n",
              "806      zeraora  Electric     NaN\n",
              "807       meltan     Steel     NaN\n",
              "808     melmetal     Steel     NaN\n",
              "\n",
              "[809 rows x 3 columns]>"
            ]
          },
          "metadata": {
            "tags": []
          },
          "execution_count": 23
        }
      ]
    },
    {
      "cell_type": "markdown",
      "metadata": {
        "id": "5PaZKORuw8R3"
      },
      "source": [
        "이미지 데이터 목록을 가져와 타입을 찾아서 pandas.DataFrame으로 만들기"
      ]
    },
    {
      "cell_type": "code",
      "metadata": {
        "id": "Q9OOL1_UuJrO"
      },
      "source": [
        "images_data = \"./pokemon-type/data/images/\""
      ],
      "execution_count": null,
      "outputs": []
    },
    {
      "cell_type": "code",
      "metadata": {
        "id": "iGkPvTQWuVSl",
        "colab": {
          "base_uri": "https://localhost:8080/"
        },
        "outputId": "494251a2-3d54-4d66-ce89-ce0a869392f4"
      },
      "source": [
        "pokemon_filenames = os.listdir(images_data)\n",
        "\n",
        "pnames, primary_types,secondary_types = [], [], []\n",
        "for path in os.listdir(images_data):\n",
        "        pokemon_name = path.split('.')[0] #'이름(영어버전).확장자' -> '이름(영어버전)'\n",
        "        row = csv_data[csv_data['Name']==pokemon_name] #이름으로 해당 포켓몬 찾기\n",
        "        type1 = csv_data['Type1'][int(row.index.values)]\n",
        "        type2 = csv_data['Type2'][int(row.index.values)]\n",
        "        pnames.append(pokemon_name.capitalize())#ex) abomasnow -> Abomasnow\n",
        "        primary_types.append(type1)  \n",
        "        secondary_types.append(type2)\n",
        "#포켓몬 데이터 pandas.DataFrame 생성\n",
        "pokemon_d = {'Image':pokemon_filenames, 'Pokemon':pnames, 'Primary_Type':primary_types, 'Secondary_Type':secondary_types}\n",
        "pokemon_data = pd.DataFrame(pokemon_d)\n",
        "pokemon_data['Primary_Type'].value_counts()"
      ],
      "execution_count": null,
      "outputs": [
        {
          "output_type": "execute_result",
          "data": {
            "text/plain": [
              "Water       114\n",
              "Normal      105\n",
              "Grass        78\n",
              "Bug          72\n",
              "Fire         53\n",
              "Psychic      53\n",
              "Rock         46\n",
              "Electric     40\n",
              "Poison       34\n",
              "Ground       32\n",
              "Fighting     29\n",
              "Dark         29\n",
              "Dragon       27\n",
              "Ghost        27\n",
              "Steel        26\n",
              "Ice          23\n",
              "Fairy        18\n",
              "Flying        3\n",
              "Name: Primary_Type, dtype: int64"
            ]
          },
          "metadata": {
            "tags": []
          },
          "execution_count": 31
        }
      ]
    },
    {
      "cell_type": "code",
      "metadata": {
        "id": "Ozw0NlQWxK-W",
        "colab": {
          "base_uri": "https://localhost:8080/",
          "height": 204
        },
        "outputId": "8c75c69f-807c-484e-8d51-0332e6ca3a93"
      },
      "source": [
        "pokemon_data.head()"
      ],
      "execution_count": null,
      "outputs": [
        {
          "output_type": "execute_result",
          "data": {
            "text/html": [
              "<div>\n",
              "<style scoped>\n",
              "    .dataframe tbody tr th:only-of-type {\n",
              "        vertical-align: middle;\n",
              "    }\n",
              "\n",
              "    .dataframe tbody tr th {\n",
              "        vertical-align: top;\n",
              "    }\n",
              "\n",
              "    .dataframe thead th {\n",
              "        text-align: right;\n",
              "    }\n",
              "</style>\n",
              "<table border=\"1\" class=\"dataframe\">\n",
              "  <thead>\n",
              "    <tr style=\"text-align: right;\">\n",
              "      <th></th>\n",
              "      <th>Image</th>\n",
              "      <th>Pokemon</th>\n",
              "      <th>Primary_Type</th>\n",
              "      <th>Secondary_Type</th>\n",
              "    </tr>\n",
              "  </thead>\n",
              "  <tbody>\n",
              "    <tr>\n",
              "      <th>0</th>\n",
              "      <td>volcarona.png</td>\n",
              "      <td>Volcarona</td>\n",
              "      <td>Bug</td>\n",
              "      <td>Fire</td>\n",
              "    </tr>\n",
              "    <tr>\n",
              "      <th>1</th>\n",
              "      <td>grovyle.png</td>\n",
              "      <td>Grovyle</td>\n",
              "      <td>Grass</td>\n",
              "      <td>NaN</td>\n",
              "    </tr>\n",
              "    <tr>\n",
              "      <th>2</th>\n",
              "      <td>gengar.png</td>\n",
              "      <td>Gengar</td>\n",
              "      <td>Ghost</td>\n",
              "      <td>Poison</td>\n",
              "    </tr>\n",
              "    <tr>\n",
              "      <th>3</th>\n",
              "      <td>florges.png</td>\n",
              "      <td>Florges</td>\n",
              "      <td>Fairy</td>\n",
              "      <td>NaN</td>\n",
              "    </tr>\n",
              "    <tr>\n",
              "      <th>4</th>\n",
              "      <td>spoink.png</td>\n",
              "      <td>Spoink</td>\n",
              "      <td>Psychic</td>\n",
              "      <td>NaN</td>\n",
              "    </tr>\n",
              "  </tbody>\n",
              "</table>\n",
              "</div>"
            ],
            "text/plain": [
              "           Image    Pokemon Primary_Type Secondary_Type\n",
              "0  volcarona.png  Volcarona          Bug           Fire\n",
              "1    grovyle.png    Grovyle        Grass            NaN\n",
              "2     gengar.png     Gengar        Ghost         Poison\n",
              "3    florges.png    Florges        Fairy            NaN\n",
              "4     spoink.png     Spoink      Psychic            NaN"
            ]
          },
          "metadata": {
            "tags": []
          },
          "execution_count": 32
        }
      ]
    },
    {
      "cell_type": "code",
      "metadata": {
        "id": "ShyGOOdivoke",
        "colab": {
          "base_uri": "https://localhost:8080/",
          "height": 35
        },
        "outputId": "83916904-b14e-41ff-c90f-ac050d7f5e3b"
      },
      "source": [
        "#포켓몬 수만큼 임의의 순서 가져오기\n",
        "numbers = []\n",
        "for i in range(1,csv_data.shape[0]+1):\n",
        "    numbers.append(i)\n",
        "csv_data['pkn'] = numbers\n",
        "IMG_DIR = '/kaggle/input/pokemon-images-dataset/pokemon/pokemon'\n",
        "from os import listdir\n",
        "from os.path import isfile, join\n",
        "onlyfiles = [f for f in listdir(IMG_DIR) if isfile(join(IMG_DIR, f))]\n",
        "\n",
        "import re\n",
        "dataframe_img = pd.DataFrame([])\n",
        "images = []\n",
        "pokemon_number = []\n",
        "for img in onlyfiles:\n",
        "    if not re.search('-', img):\n",
        "        pkn = img.split('.')\n",
        "        n = re.sub(\"[^0-9]\", \"\", pkn[0])\n",
        "        path = str(img)\n",
        "        images.append(path)\n",
        "        pokemon_number.append(n)\n",
        "dataframe_img['Image'] = images\n",
        "dataframe_img['pkn'] = pokemon_number\n",
        "dataframe_img['pkn'] = dataframe_img['pkn'].astype(int)\n",
        "pokemon_test = csv_data.merge(dataframe_img, left_on='pkn', right_on='pkn')\n",
        "pokemon_test.rename(columns={'Name':'Pokemon','Type1':'Primary_Type','Type2':'Secondary_Type'},inplace=True)\n",
        "pokemon_test['Primary_Type'].value_counts()"
      ],
      "execution_count": null,
      "outputs": [
        {
          "output_type": "execute_result",
          "data": {
            "application/vnd.google.colaboratory.intrinsic+json": {
              "type": "string"
            },
            "text/plain": [
              "'Abomasnow'"
            ]
          },
          "metadata": {
            "tags": []
          },
          "execution_count": 26
        }
      ]
    },
    {
      "cell_type": "markdown",
      "metadata": {
        "id": "_HLDZ5tqydDP"
      },
      "source": [
        "디렉토리 초기화"
      ]
    },
    {
      "cell_type": "code",
      "metadata": {
        "id": "GWi49VNdxZg-"
      },
      "source": [
        "#디렉토리 삭제\n",
        "import shutil\n",
        "if os.path.exists('train/'):\n",
        "    shutil.rmtree('train/') \n",
        "if os.path.exists('test/'):\n",
        "    shutil.rmtree('test/') \n",
        "if os.path.exists('val/'):\n",
        "    shutil.rmtree('val/') \n",
        "\n",
        "#디렉토리 생성\n",
        "from shutil import copyfile, copy2\n",
        "if not os.path.exists('train/'):\n",
        "    os.mkdir('train/')\n",
        "if not os.path.exists('test/'):\n",
        "    os.mkdir('test/')\n",
        "if not os.path.exists('val/'):\n",
        "    os.mkdir('val/')\n",
        "\n",
        "#타입별 디렉토리 생성\n",
        "for class_ in pokemon_data['Primary_Type'].unique():\n",
        "    if not os.path.exists('train/'+str(class_)+'/'):\n",
        "        os.mkdir('train/'+str(class_)+'/')\n",
        "    if not os.path.exists('test/'+str(class_)+'/'):\n",
        "        os.mkdir('test/'+str(class_)+'/')\n",
        "    if not os.path.exists('val/'+str(class_)+'/'):\n",
        "        os.mkdir('val/'+str(class_)+'/')"
      ],
      "execution_count": null,
      "outputs": []
    },
    {
      "cell_type": "code",
      "metadata": {
        "id": "1FNZZ0gdxbgH"
      },
      "source": [
        ""
      ],
      "execution_count": null,
      "outputs": []
    }
  ]
}